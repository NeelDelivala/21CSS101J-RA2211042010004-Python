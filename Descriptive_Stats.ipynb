{
  "nbformat": 4,
  "nbformat_minor": 0,
  "metadata": {
    "colab": {
      "provenance": [],
      "include_colab_link": true
    },
    "kernelspec": {
      "name": "python3",
      "display_name": "Python 3"
    },
    "language_info": {
      "name": "python"
    }
  },
  "cells": [
    {
      "cell_type": "markdown",
      "metadata": {
        "id": "view-in-github",
        "colab_type": "text"
      },
      "source": [
        "<a href=\"https://colab.research.google.com/github/NeelDelivala/21CSS101J-RA2211042010004-Python/blob/main/Descriptive_Stats.ipynb\" target=\"_parent\"><img src=\"https://colab.research.google.com/assets/colab-badge.svg\" alt=\"Open In Colab\"/></a>"
      ]
    },
    {
      "cell_type": "markdown",
      "source": [
        "# Descriptive Statistics in NumPy\n"
      ],
      "metadata": {
        "id": "3SiKEpE9SS_-"
      }
    },
    {
      "cell_type": "markdown",
      "source": [
        "Descriptive statistics describe the basic and important features of data.\n",
        "\n",
        "Descriptive statisticshelp simplify and summarize large amounts of data in a sensible manner. \n",
        "\n",
        "For instance, consider the Cumulative Grade Point Index (CGPI), which is used to describe the general performance of a student across a wide range of course experiences.\n",
        "\n",
        "Descriptive statistics involve evaluating measures of center(centrality measures) and measures of dispersion(spread)."
      ],
      "metadata": {
        "id": "2yG-wJPNSgJU"
      }
    },
    {
      "cell_type": "markdown",
      "source": [
        "# Centrality measures\n",
        "\n",
        "Centrality measures give us an estimate of the center of a distribution. It gives us a sense of a typical value we would expect to see. \n",
        "The three major measures of center include the \n",
        "\n",
        "\n",
        "*   Mean\n",
        "*   Median\n",
        "*   Mode"
      ],
      "metadata": {
        "id": "vwBCC2WbX0ow"
      }
    },
    {
      "cell_type": "markdown",
      "source": [
        "## Mean\n",
        "The average of the given values. \n",
        "\n",
        "To compute mean, sum all the values and divide the sumby the number of values.\n",
        "\n",
        "Mean= ∑(x)/n\n",
        "\n",
        "∑(x) --> Sum of values of observation\n",
        "\n",
        "n --> Count of observation\n",
        "\n",
        "**uses:** to find average sales per day"
      ],
      "metadata": {
        "id": "JrqfULWDYPHd"
      }
    },
    {
      "cell_type": "code",
      "execution_count": null,
      "metadata": {
        "colab": {
          "base_uri": "https://localhost:8080/"
        },
        "id": "GkRqulytSO3d",
        "outputId": "ccdf3b10-516a-4b7c-b092-42502e64234b"
      },
      "outputs": [
        {
          "output_type": "stream",
          "name": "stdout",
          "text": [
            "[10.  14.  11.   7.   9.5 15.  19. ]\n",
            "Mean: 12.214285714285714\n"
          ]
        }
      ],
      "source": [
        "import numpy as np\n",
        "A = np.array([10,14,11,7,9.5,15,19])\n",
        "print(A)\n",
        "b=np.mean(A)\n",
        "print(\"Mean:\",b)"
      ]
    },
    {
      "cell_type": "markdown",
      "source": [
        "## Median\n",
        "Middle most value of the observation\n",
        "\n",
        "To calculate the median, arrange the data points in the increasing order and the middle value is the median. \n",
        "\n",
        "It is easy to find out the middle value if there is anodd number of data points, say, we want to find the median for marks of all students forSubject 1.\n",
        "\n",
        "When marks are arranged in the increasing order, we get {7,9.5,10,11,14,15,19}. Clearly, the middle value is 11; therefore, the median is 11.\n",
        "\n",
        "numpy.median(a, axis=None)\n",
        "\n",
        "a: array containing numbers whose median is required\n",
        "axis: axis or axes(Row-0/Column-1) along which the median is computed, \n",
        "\n",
        "**uses:** to select the medium risk involvement options"
      ],
      "metadata": {
        "id": "mF2-sSAEacW3"
      }
    },
    {
      "cell_type": "code",
      "source": [
        "import numpy as np\n",
        "A = np.array([7,9.5,10,11,14,15,19])\n",
        "print(A)\n",
        "b=np.median(A)\n",
        "print(\"Mean:\",b)"
      ],
      "metadata": {
        "colab": {
          "base_uri": "https://localhost:8080/"
        },
        "id": "AfgTOrTsbHHR",
        "outputId": "1204459f-326a-4fc9-e953-69783f0f9f2c"
      },
      "execution_count": null,
      "outputs": [
        {
          "output_type": "stream",
          "name": "stdout",
          "text": [
            "[ 7.   9.5 10.  11.  14.  15.  19. ]\n",
            "Mean: 11.0\n"
          ]
        }
      ]
    },
    {
      "cell_type": "code",
      "source": [
        "B=np.array([[2,3,4],[3,4,5],[6,7,8],[9,10,11]])\n",
        "print(B)\n",
        "c=np.median(B,axis=1)\n",
        "print(c)"
      ],
      "metadata": {
        "colab": {
          "base_uri": "https://localhost:8080/"
        },
        "id": "scjyMfwNbuhM",
        "outputId": "66c44c87-ecf4-4ccb-a0c1-43bd3a71476d"
      },
      "execution_count": null,
      "outputs": [
        {
          "output_type": "stream",
          "name": "stdout",
          "text": [
            "[[ 2  3  4]\n",
            " [ 3  4  5]\n",
            " [ 6  7  8]\n",
            " [ 9 10 11]]\n",
            "[ 3.  4.  7. 10.]\n"
          ]
        }
      ]
    },
    {
      "cell_type": "markdown",
      "source": [
        "## Mode\n",
        "Highest frequency of the particular value among observation.\n",
        "\n",
        "The value that occurs the most number of times in our data set. \n",
        "\n",
        "stats.mstats.mode(a, axis=0)\n",
        "\n",
        "a: array containing numbers whose mode is required\n",
        "axis: axis or axes along which the mode is computed, default is to compute the mode of the flattened array\n",
        "\n",
        "Mode= 3(median)-2(mean)\n",
        "\n",
        "***Uses:*** To find the rating given by the maximum number of user."
      ],
      "metadata": {
        "id": "c6Z1gMw_fIKV"
      }
    },
    {
      "cell_type": "code",
      "source": [
        "import numpy as np\n",
        "from scipy import stats\n",
        "A = np.array([5,5,1,3,5,4,1,5])\n",
        "print(A)\n",
        "b=stats.mode(A,axis=0)\n",
        "print(\"Mode:\",b)"
      ],
      "metadata": {
        "colab": {
          "base_uri": "https://localhost:8080/"
        },
        "id": "ESMJzc0Cgepu",
        "outputId": "6426914c-d1bd-4dbd-c12d-4c1fadb50c91"
      },
      "execution_count": null,
      "outputs": [
        {
          "output_type": "stream",
          "name": "stdout",
          "text": [
            "[5 5 1 3 5 4 1 5]\n",
            "Mode: ModeResult(mode=array([5]), count=array([4]))\n"
          ]
        }
      ]
    },
    {
      "cell_type": "code",
      "source": [
        "B=np.array([[1,1,1],[1,4,0],[1,2,1]])\n",
        "print(B)\n",
        "c=stats.mode(B,axis=0)\n",
        "print(c)"
      ],
      "metadata": {
        "colab": {
          "base_uri": "https://localhost:8080/"
        },
        "id": "0yqrbi4ql2v0",
        "outputId": "25b6f84f-697f-4768-b5ae-7df26d700e26"
      },
      "execution_count": null,
      "outputs": [
        {
          "output_type": "stream",
          "name": "stdout",
          "text": [
            "[[1 1 1]\n",
            " [1 4 0]\n",
            " [1 2 1]]\n",
            "ModeResult(mode=array([[1, 1, 1]]), count=array([[3, 1, 2]]))\n"
          ]
        }
      ]
    },
    {
      "cell_type": "markdown",
      "source": [
        "# Measures of dispersion\n",
        "Measures of dispersion are values that describe how the data varies.\n",
        "\n",
        "It gives us a sense of how much the data tends to diverge from the typical value, while central measures give us an idea about the typical value of the distribution.\n",
        "\n",
        "\n",
        "*   Range\n",
        "*   Variance\n",
        "*   Standard deviation\n",
        "*   Percentile\n",
        "*   Min\n",
        "*   Max\n"
      ],
      "metadata": {
        "id": "uvYR5VezyVCE"
      }
    },
    {
      "cell_type": "markdown",
      "source": [
        "## Range\n",
        "The difference between the largest and the smallest value in a data set"
      ],
      "metadata": {
        "id": "89Xg7JGLzOYD"
      }
    },
    {
      "cell_type": "code",
      "source": [
        "import numpy as np\n",
        "A = np.array([10,14,11,7,9.5,15,19])\n",
        "print(A)\n",
        "b=np.ptp(A, axis=0)\n",
        "print(\"Range:\",b)"
      ],
      "metadata": {
        "colab": {
          "base_uri": "https://localhost:8080/"
        },
        "id": "mt0CyoK9zNLb",
        "outputId": "3202973c-218f-45bd-e50f-de73f860431d"
      },
      "execution_count": null,
      "outputs": [
        {
          "output_type": "stream",
          "name": "stdout",
          "text": [
            "[10.  14.  11.   7.   9.5 15.  19. ]\n",
            "Range: 12.0\n"
          ]
        }
      ]
    },
    {
      "cell_type": "markdown",
      "source": [
        "## Standard deviation\n",
        "The square root of the variance.\n",
        "\n",
        "Standard Deviation S = \\begin{array}{l}S=\\sqrt{\\frac{\\sum(X-\\bar{X})^{2}}{n-1}}\\end{array}\n",
        "\n"
      ],
      "metadata": {
        "id": "0qNha0L8z17D"
      }
    },
    {
      "cell_type": "code",
      "source": [
        "import numpy as np\n",
        "A = np.array([25,10,15,12,13])\n",
        "print(A)\n",
        "b=np.std(A, axis=0)\n",
        "print(\"Standard Deviation:\",b)"
      ],
      "metadata": {
        "colab": {
          "base_uri": "https://localhost:8080/"
        },
        "id": "6taYdIle0BNx",
        "outputId": "d59d842b-11a1-4cc2-cedd-8bd12b79d65e"
      },
      "execution_count": null,
      "outputs": [
        {
          "output_type": "stream",
          "name": "stdout",
          "text": [
            "[25 10 15 12 13]\n",
            "Standard Deviation: 5.253570214625479\n"
          ]
        }
      ]
    },
    {
      "cell_type": "markdown",
      "source": [
        "## Variance\n",
        "The average of the squared differences from the mean. \n",
        "\n",
        "The sum of squared deviations from the mean divided by n – 1 where n is the\n",
        "number of data values.\n",
        "\n",
        "variance v = \\begin{array}{l}S={\\frac{\\sum(X-\\bar{X})^{2}}{n-1}}\\end{array}"
      ],
      "metadata": {
        "id": "z7UBB9xp3rp7"
      }
    },
    {
      "cell_type": "code",
      "source": [
        "import numpy as np\n",
        "A = np.array([46,69,32,60,52,41])\n",
        "print(A)\n",
        "b=np.var(A)\n",
        "print(\"Variance:\",b)"
      ],
      "metadata": {
        "colab": {
          "base_uri": "https://localhost:8080/"
        },
        "id": "g7Nfbqd53xwi",
        "outputId": "52e06e44-4274-4d3d-f886-5ef1b864fbb1"
      },
      "execution_count": null,
      "outputs": [
        {
          "output_type": "stream",
          "name": "stdout",
          "text": [
            "[46 69 32 60 52 41]\n",
            "Variance: 147.66666666666666\n"
          ]
        }
      ]
    },
    {
      "cell_type": "markdown",
      "source": [
        "## Percentile\n",
        "The value such that P percent of the data lies below.\n",
        "\n",
        "A measure which indicates the value below which a given percentage of points in a dataset fall."
      ],
      "metadata": {
        "id": "SKVLOtc96A2z"
      }
    },
    {
      "cell_type": "code",
      "source": [
        "import numpy as np\n",
        "A = np.array([46,69,32,60,52,41])\n",
        "print(A)\n",
        "b=np.percentile(A,25)\n",
        "print(\"Percentile:\",b)"
      ],
      "metadata": {
        "colab": {
          "base_uri": "https://localhost:8080/"
        },
        "id": "GdmTfZ6E7QY_",
        "outputId": "31c777df-1f52-409d-a405-b53fc95583a7"
      },
      "execution_count": null,
      "outputs": [
        {
          "output_type": "stream",
          "name": "stdout",
          "text": [
            "[46 69 32 60 52 41]\n",
            "Percentile: 42.25\n"
          ]
        }
      ]
    },
    {
      "cell_type": "code",
      "source": [
        "import numpy as np\n",
        "A = np.array([46,69,32,60,52,41])\n",
        "print(A)\n",
        "b=np.quantile(A,0.5)\n",
        "print(\"Quantile:\",b)"
      ],
      "metadata": {
        "colab": {
          "base_uri": "https://localhost:8080/"
        },
        "id": "KPWdow-58rPy",
        "outputId": "1f9c73df-9b06-4acd-b33c-3863e93ac2ff"
      },
      "execution_count": null,
      "outputs": [
        {
          "output_type": "stream",
          "name": "stdout",
          "text": [
            "[46 69 32 60 52 41]\n",
            "Quantile: 49.0\n"
          ]
        }
      ]
    },
    {
      "cell_type": "markdown",
      "source": [
        "## Min and Max\n",
        "Finding minimum value in the array\n",
        "Finding Maximum value in the array"
      ],
      "metadata": {
        "id": "_GdoMEPr79E3"
      }
    },
    {
      "cell_type": "code",
      "source": [
        "import numpy as np\n",
        "A = np.array([46,69,32,60,52,41])\n",
        "print(A)\n",
        "b=np.max(A)\n",
        "d=np.min(A)\n",
        "print(\"MAX:\",b)\n",
        "print(\"MIN:\",d)"
      ],
      "metadata": {
        "colab": {
          "base_uri": "https://localhost:8080/"
        },
        "id": "nElhbAy48QQ4",
        "outputId": "18c770c8-691a-4385-e496-9942d8e34398"
      },
      "execution_count": null,
      "outputs": [
        {
          "output_type": "stream",
          "name": "stdout",
          "text": [
            "[46 69 32 60 52 41]\n",
            "MAX: 69\n",
            "MIN: 32\n"
          ]
        }
      ]
    }
  ]
}