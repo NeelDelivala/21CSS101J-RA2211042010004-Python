{
  "nbformat": 4,
  "nbformat_minor": 0,
  "metadata": {
    "colab": {
      "provenance": [],
      "authorship_tag": "ABX9TyNmBLriafHjAyPGqZAhvEBv",
      "include_colab_link": true
    },
    "kernelspec": {
      "name": "python3",
      "display_name": "Python 3"
    },
    "language_info": {
      "name": "python"
    }
  },
  "cells": [
    {
      "cell_type": "markdown",
      "metadata": {
        "id": "view-in-github",
        "colab_type": "text"
      },
      "source": [
        "<a href=\"https://colab.research.google.com/github/NeelDelivala/21CSS101J-RA2211042010004-Python/blob/main/Python_Data_Analytics_3.ipynb\" target=\"_parent\"><img src=\"https://colab.research.google.com/assets/colab-badge.svg\" alt=\"Open In Colab\"/></a>"
      ]
    },
    {
      "cell_type": "code",
      "execution_count": null,
      "metadata": {
        "colab": {
          "base_uri": "https://localhost:8080/"
        },
        "id": "t099pN7bAuDN",
        "outputId": "f7e84771-dcd3-4d86-ebd8-ac28966c688e"
      },
      "outputs": [
        {
          "output_type": "stream",
          "name": "stdout",
          "text": [
            "{\n",
            "  \"size\":\"Medium\",\n",
            "  \"price\":15.67,\n",
            "  \"toppings\":[\"Mushrooms\",\"Extra Cheese\",\"Pepperoni\",\"Basil\"],\n",
            "  \"client\":{\"name\":\"Jane Doe\",\"phone\":\"455-344-234\",\"email\":\"janedoe@gmail.com\"}\n",
            "}\n"
          ]
        }
      ],
      "source": [
        "import pandas\n",
        "import json\n",
        "data_JSON=\"\"\"{\n",
        "  \"size\":\"Medium\",\n",
        "  \"price\":15.67,\n",
        "  \"toppings\":[\"Mushrooms\",\"Extra Cheese\",\"Pepperoni\",\"Basil\"],\n",
        "  \"client\":{\"name\":\"Jane Doe\",\"phone\":\"455-344-234\",\"email\":\"janedoe@gmail.com\"}\n",
        "}\"\"\"\n",
        "print(data_JSON)\n"
      ]
    },
    {
      "cell_type": "code",
      "source": [
        "students_JSON=\"\"\"{\n",
        "  \"student\":[{\n",
        "      \"id\":\"01\",\n",
        "      \"name\":\"Jane\",\n",
        "      \"department\":\"DSBS\",\n",
        "      \"age\":20,\n",
        "      \"city\":\"Delhi\"\n",
        "  },{\n",
        "      \"id\":\"02\",\n",
        "      \"name\":\"John\",\n",
        "      \"department\":\"ECE\",\n",
        "      \"age\":19,\n",
        "      \"city\":\"Mumbai\"\n",
        "  },{\n",
        "      \"id\":\"03\",\n",
        "      \"name\":\"Jack\",\n",
        "      \"department\":\"CSE\",\n",
        "      \"age\":21,\n",
        "      \"city\":\"Bangalore\"\n",
        "  }\n",
        "  ]\n",
        "}\"\"\"\n",
        "print(students_JSON)\n",
        "student_dict=json.loads(students_JSON)\n",
        "print(\"\\n\",student_dict)\n",
        "print(\"\\nName of student 1:\",student_dict['student'][0]['name'])\n",
        "print(\"\\nAge of student 1:\",student_dict['student'][0]['age'])\n",
        "print(\"\\nCity of student 1:\",student_dict['student'][0]['city'])\n"
      ],
      "metadata": {
        "colab": {
          "base_uri": "https://localhost:8080/"
        },
        "id": "es2WxEwHDIuc",
        "outputId": "c8ee1690-5e35-4634-e575-067911a24ca5"
      },
      "execution_count": null,
      "outputs": [
        {
          "output_type": "stream",
          "name": "stdout",
          "text": [
            "{\n",
            "  \"student\":[{\n",
            "      \"id\":\"01\",\n",
            "      \"name\":\"Jane\",\n",
            "      \"department\":\"DSBS\",\n",
            "      \"age\":20,\n",
            "      \"city\":\"Delhi\"   \n",
            "  },{\n",
            "      \"id\":\"02\",\n",
            "      \"name\":\"John\",\n",
            "      \"department\":\"ECE\",\n",
            "      \"age\":19,\n",
            "      \"city\":\"Mumbai\"\n",
            "  },{\n",
            "      \"id\":\"03\",\n",
            "      \"name\":\"Jack\",\n",
            "      \"department\":\"CSE\",\n",
            "      \"age\":21,\n",
            "      \"city\":\"Bangalore\"\n",
            "  }\n",
            "  ]\n",
            "}\n",
            "\n",
            " {'student': [{'id': '01', 'name': 'Jane', 'department': 'DSBS', 'age': 20, 'city': 'Delhi'}, {'id': '02', 'name': 'John', 'department': 'ECE', 'age': 19, 'city': 'Mumbai'}, {'id': '03', 'name': 'Jack', 'department': 'CSE', 'age': 21, 'city': 'Bangalore'}]}\n",
            "\n",
            "Name of student 1: Jane\n",
            "\n",
            "Age of student 1: 20\n",
            "\n",
            "City of student 1: Delhi\n"
          ]
        }
      ]
    },
    {
      "cell_type": "code",
      "source": [
        "with open('/content/sample_data/anscombe.json','r') as f:\n",
        "    data=json.load(f)\n",
        "print(data)"
      ],
      "metadata": {
        "colab": {
          "base_uri": "https://localhost:8080/"
        },
        "id": "6JEpS928HUyk",
        "outputId": "dbdacd71-682d-4afb-b708-cb31ddaf0c20"
      },
      "execution_count": null,
      "outputs": [
        {
          "output_type": "stream",
          "name": "stdout",
          "text": [
            "[{'Series': 'I', 'X': 10.0, 'Y': 8.04}, {'Series': 'I', 'X': 8.0, 'Y': 6.95}, {'Series': 'I', 'X': 13.0, 'Y': 7.58}, {'Series': 'I', 'X': 9.0, 'Y': 8.81}, {'Series': 'I', 'X': 11.0, 'Y': 8.33}, {'Series': 'I', 'X': 14.0, 'Y': 9.96}, {'Series': 'I', 'X': 6.0, 'Y': 7.24}, {'Series': 'I', 'X': 4.0, 'Y': 4.26}, {'Series': 'I', 'X': 12.0, 'Y': 10.84}, {'Series': 'I', 'X': 7.0, 'Y': 4.81}, {'Series': 'I', 'X': 5.0, 'Y': 5.68}, {'Series': 'II', 'X': 10.0, 'Y': 9.14}, {'Series': 'II', 'X': 8.0, 'Y': 8.14}, {'Series': 'II', 'X': 13.0, 'Y': 8.74}, {'Series': 'II', 'X': 9.0, 'Y': 8.77}, {'Series': 'II', 'X': 11.0, 'Y': 9.26}, {'Series': 'II', 'X': 14.0, 'Y': 8.1}, {'Series': 'II', 'X': 6.0, 'Y': 6.13}, {'Series': 'II', 'X': 4.0, 'Y': 3.1}, {'Series': 'II', 'X': 12.0, 'Y': 9.13}, {'Series': 'II', 'X': 7.0, 'Y': 7.26}, {'Series': 'II', 'X': 5.0, 'Y': 4.74}, {'Series': 'III', 'X': 10.0, 'Y': 7.46}, {'Series': 'III', 'X': 8.0, 'Y': 6.77}, {'Series': 'III', 'X': 13.0, 'Y': 12.74}, {'Series': 'III', 'X': 9.0, 'Y': 7.11}, {'Series': 'III', 'X': 11.0, 'Y': 7.81}, {'Series': 'III', 'X': 14.0, 'Y': 8.84}, {'Series': 'III', 'X': 6.0, 'Y': 6.08}, {'Series': 'III', 'X': 4.0, 'Y': 5.39}, {'Series': 'III', 'X': 12.0, 'Y': 8.15}, {'Series': 'III', 'X': 7.0, 'Y': 6.42}, {'Series': 'III', 'X': 5.0, 'Y': 5.73}, {'Series': 'IV', 'X': 8.0, 'Y': 6.58}, {'Series': 'IV', 'X': 8.0, 'Y': 5.76}, {'Series': 'IV', 'X': 8.0, 'Y': 7.71}, {'Series': 'IV', 'X': 8.0, 'Y': 8.84}, {'Series': 'IV', 'X': 8.0, 'Y': 8.47}, {'Series': 'IV', 'X': 8.0, 'Y': 7.04}, {'Series': 'IV', 'X': 8.0, 'Y': 5.25}, {'Series': 'IV', 'X': 19.0, 'Y': 12.5}, {'Series': 'IV', 'X': 8.0, 'Y': 5.56}, {'Series': 'IV', 'X': 8.0, 'Y': 7.91}, {'Series': 'IV', 'X': 8.0, 'Y': 6.89}]\n"
          ]
        }
      ]
    },
    {
      "cell_type": "code",
      "source": [
        "student_dict2={'student': [{'id': '01', 'name': 'Jane', 'department': None, 'age': 20, 'city': 'Delhi'}, {'id': '02', 'name': 'John', 'department': 'ECE', 'age': 19, 'city': 'Mumbai'}, {'id': '03', 'name': 'Jack', 'department': 'CSE', 'age': 21, 'city': 'Bangalore'}]}\n",
        "student_json2=json.dumps(student_dict2)\n",
        "print(student_json2)"
      ],
      "metadata": {
        "colab": {
          "base_uri": "https://localhost:8080/"
        },
        "id": "LvnTg-WGJvrk",
        "outputId": "1b8f5ee0-cc8a-4994-97ca-0a520328e045"
      },
      "execution_count": null,
      "outputs": [
        {
          "output_type": "stream",
          "name": "stdout",
          "text": [
            "{\"student\": [{\"id\": \"01\", \"name\": \"Jane\", \"department\": null, \"age\": 20, \"city\": \"Delhi\"}, {\"id\": \"02\", \"name\": \"John\", \"department\": \"ECE\", \"age\": 19, \"city\": \"Mumbai\"}, {\"id\": \"03\", \"name\": \"Jack\", \"department\": \"CSE\", \"age\": 21, \"city\": \"Bangalore\"}]}\n"
          ]
        }
      ]
    },
    {
      "cell_type": "code",
      "source": [
        "person_dict={\"name\":\"Bob\",\"languages\":[\"English\",\"French\"]}\n",
        "person_json=json.dumps(person_dict)"
      ],
      "metadata": {
        "id": "HtMSLh3GMWsF"
      },
      "execution_count": null,
      "outputs": []
    }
  ]
}